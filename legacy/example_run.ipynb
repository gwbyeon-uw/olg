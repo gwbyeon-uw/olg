{
 "cells": [
  {
   "cell_type": "code",
   "execution_count": 1,
   "id": "ea0da4f1-37ef-4fea-b6f9-3d5102b28232",
   "metadata": {},
   "outputs": [],
   "source": [
    "import os\n",
    "import sys\n",
    "\n",
    "import torch\n",
    "import torch.nn.functional as F\n",
    "\n",
    "import numpy as np\n",
    "\n",
    "import matplotlib\n",
    "import matplotlib.pyplot as plt    \n",
    "import matplotlib.animation as anim\n",
    "import matplotlib.colors as colors\n",
    "import matplotlib.patches as patches\n",
    "\n",
    "from translator import *\n",
    "from olgdesign import *\n",
    "from ofvalidation import *\n",
    "\n",
    "torch.set_num_threads(2)\n",
    "gpu_id = 0\n",
    "os.environ[\"CUDA_VISIBLE_DEVICES\"] = str(gpu_id)\n",
    "device = torch.device(f'cuda:0') if gpu_id >= 0 else torch.device('cpu')\n",
    "\n",
    "nucleotides = ['A', 'T', 'G', 'C']\n",
    "amino_acids = list(\"ARNDCQEGHILKMFPSTWYV*\")"
   ]
  },
  {
   "cell_type": "code",
   "execution_count": 2,
   "id": "14a614ff-a00a-4719-8bdf-12b9d5489468",
   "metadata": {},
   "outputs": [],
   "source": [
    "#Load rosettafold net\n",
    "os.chdir(\"/home/ubuntu/projects/olgdesign\")\n",
    "sys.path.insert(0, \"./util\")\n",
    "include_dir = './'\n",
    "network_name = 'rf_Nov05_2021'\n",
    "weights_dir = \"./weights\"\n",
    "rosetta, rosetta_params = load_model(include_dir, network_name, weights_dir, device)\n",
    "\n",
    "#Load translator net\n",
    "translator_file = \"./weights/translator/translator_cnn_512ch.pth\"\n",
    "translator = torch.load(translator_file)\n",
    "\n",
    "#Make/load background for KLD loss\n",
    "#bkg_L100 = mk_bkg(rosetta, 100, device, n_runs=1000)\n",
    "#torch.save(bkg_L100, \"./bkg/L100.pth\")\n",
    "bkg_100 = torch.load(\"./bkg/L100.pth\")"
   ]
  },
  {
   "cell_type": "code",
   "execution_count": 3,
   "id": "a291e29d-936b-49ea-8548-51bb37a864ee",
   "metadata": {},
   "outputs": [],
   "source": [
    "#Run hallucination of a pair of proteins of length 100 that are fully overlapping\n",
    "f1_length = 100\n",
    "f2_length = 100\n",
    "f1_frame = 0 #Frame 0\n",
    "f2_frame = 5 #Frame -2\n",
    "offset = 1\n",
    "total_length = f1_length + offset + 2\n",
    "\n",
    "#Mask for fixing first AA to Met\n",
    "f1_force = torch.zeros(1, 21, f1_length)\n",
    "f1_force[:, 12, 0] = 1.0\n",
    "f2_force = torch.zeros(1, 21, f2_length)\n",
    "f2_force[:, 12, 0] = 1.0\n",
    "\n",
    "#Specify masks for KL divergence or cross entropy loss\n",
    "wstart = 5 #Mask out first few AAs to give some space for fixed AAs and stop codons\n",
    "wend = 95\n",
    "mask_f1 = torch.zeros(f1_length, f1_length)\n",
    "mask_f1[wstart:wend, wstart:wend].fill_(1.0)\n",
    "mask_f1.fill_diagonal_(0.0)\n",
    "mask_f1 = mask_f1.unsqueeze(0)\n",
    "mask_f2 = torch.zeros(f2_length, f2_length)\n",
    "mask_f2[wstart:wend, wstart:wend].fill_(1.0)\n",
    "mask_f2.fill_diagonal_(0.0)\n",
    "mask_f2 = mask_f2.unsqueeze(0)"
   ]
  },
  {
   "cell_type": "code",
   "execution_count": null,
   "id": "b6d913f9-a1d8-43b3-98d6-ce6b329831e5",
   "metadata": {},
   "outputs": [],
   "source": [
    "#Main design loop\n",
    "result = run_design(device, rosetta, translator, \n",
    "                    total_length, f1_frame, f2_frame, offset,\n",
    "                    f1_force, f2_force, \n",
    "                    bkg_100, bkg_100, \n",
    "                    mask_f1, mask_f2, \n",
    "                    True, False,\n",
    "                    lr=0.05, betas=(0.5, 0.9), \n",
    "                    weight_decay=0.0, accumulator=1e-6, eps=1e-3, \n",
    "                    lookahead_k=10, lookahead_alpha=0.5,\n",
    "                    n_step_gd=500, n_step_gd_n=0.4, n_max_h=5,\n",
    "                    early_gd_stop=0.5, grad_clip_p=0.1,\n",
    "                    n_step_sa=500, \n",
    "                    alpha_gd=0.1, alpha_sa=0.3,\n",
    "                    weight_kl=3.0, \n",
    "                    weight_ce=0.0,\n",
    "                    weight_lddt=0.0,\n",
    "                    weight_stop=1.0, \n",
    "                    weight_force=2.0, \n",
    "                    weight_last=2.0,\n",
    "                    weight_rog=0.1, \n",
    "                    rog_thres=16.0, \n",
    "                    max_mut=1, tau0=5e-3, anneal_rate=1e-5, min_temp=1e-5, \n",
    "                    print_loss=True)"
   ]
  },
  {
   "cell_type": "code",
   "execution_count": null,
   "id": "ca825d6f-f488-490a-9f02-1ef16a7e56fe",
   "metadata": {},
   "outputs": [],
   "source": [
    "#Save trajectory animation\n",
    "plot_res = anim_res(result, 1, 20)\n",
    "plot_res.save(\"example_run.gif\")"
   ]
  },
  {
   "cell_type": "code",
   "execution_count": 39,
   "id": "46ea7ac3-5a2a-4092-a5ed-d6a0ecbb251a",
   "metadata": {},
   "outputs": [],
   "source": [
    "#Get best scoring sequence\n",
    "min_prot_1 = ''.join([amino_acids[i] for i in torch.argmax(result[1]['seq'][result[1]['min_step'][-1]]['prot'][0], 1)[0]])\n",
    "min_prot_2 = ''.join([amino_acids[i] for i in torch.argmax(result[1]['seq'][result[1]['min_step'][-1]]['prot'][1], 1)[0]])\n",
    "min_nuc = ''.join([nucleotides[i] for i in torch.argmax(result[1]['seq'][result[1]['min_step'][-1]]['nuc'], 1)[0]])"
   ]
  },
  {
   "cell_type": "code",
   "execution_count": null,
   "id": "581dde57-dc2c-46b9-89ac-7ef95d7d9380",
   "metadata": {},
   "outputs": [],
   "source": [
    "#Load OpenFold weights\n",
    "openfold_weight_path = \"./weights/openfold/\"\n",
    "of_model, of_cfg = load_openfold(openfold_weight_path, 12) #Max 48 recycles\n",
    "\n",
    "#Run OpenFold for validation\n",
    "f1_of_input, f1_fd = prepare_openfold_input(min_prot_1, of_cfg)\n",
    "f2_of_input, f2_fd = prepare_openfold_input(min_prot_2, of_cfg)\n",
    "with torch.no_grad():\n",
    "    f1_of_out = of_model(f1_of_input)\n",
    "    f2_of_out = of_model(f2_of_input)\n",
    "of_fig = plot_2d(f1_of_out, f2_of_out)\n",
    "of_fig.savefig(outdir+\"/of_summary.svg\")"
   ]
  }
 ],
 "metadata": {
  "kernelspec": {
   "display_name": "Python [conda env:rofold_test2]",
   "language": "python",
   "name": "conda-env-rofold_test2-py"
  },
  "language_info": {
   "codemirror_mode": {
    "name": "ipython",
    "version": 3
   },
   "file_extension": ".py",
   "mimetype": "text/x-python",
   "name": "python",
   "nbconvert_exporter": "python",
   "pygments_lexer": "ipython3",
   "version": "3.9.12"
  }
 },
 "nbformat": 4,
 "nbformat_minor": 5
}
